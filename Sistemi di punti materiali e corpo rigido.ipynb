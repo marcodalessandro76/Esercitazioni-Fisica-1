{
 "cells": [
  {
   "cell_type": "code",
   "execution_count": 1,
   "metadata": {},
   "outputs": [],
   "source": [
    "from IPython.display import Image"
   ]
  },
  {
   "cell_type": "markdown",
   "metadata": {},
   "source": [
    "# Esercizi sui sistemi di punti materiali e corpo rigido"
   ]
  },
  {
   "cell_type": "markdown",
   "metadata": {},
   "source": [
    "Gli esercizi proposti sono tratti da:\n",
    "\n",
    "1. Mazzoldi Saggion Voci : Problemi di Fisica generale (MSV)\n",
    "2. Mazzoldi Nigro Voci : Fisica Vol. 1(MNV)\n",
    "3. Temi d'esame (TE)"
   ]
  },
  {
   "cell_type": "markdown",
   "metadata": {},
   "source": [
    "__Scaletta__\n",
    "\n",
    "Lezione 1 (11 aprile)\n",
    "\n",
    "* Rivedere gli esercizi con piu masse connesse come un sistema (forze esterne e forze interne)\n",
    "\n",
    " Esercizio 5.10, \n",
    "\n",
    "* Momento angolare sistemi semplici\n",
    "\n",
    "\n",
    "* 2-3 lezioni sul corpo rigido\n",
    "\n",
    " Lista esercizi belli: 6.10, 6.14, 6.19, 6.20, 6.21, 6.22, 6.24, 6.25, 6.28, 6.29, 6.31,6.35, 6.38, 6.41, 6.42\n",
    " dal 6.44 in poi sono da scegliere sul corpi che rotolano, fino al 6.57 (sceglierne 2 o 3).\n",
    " 6.62, 6.66, 6.67\n",
    "\n"
   ]
  },
  {
   "cell_type": "code",
   "execution_count": null,
   "metadata": {},
   "outputs": [],
   "source": []
  }
 ],
 "metadata": {
  "kernelspec": {
   "display_name": "Python 3",
   "language": "python",
   "name": "python3"
  },
  "language_info": {
   "codemirror_mode": {
    "name": "ipython",
    "version": 3
   },
   "file_extension": ".py",
   "mimetype": "text/x-python",
   "name": "python",
   "nbconvert_exporter": "python",
   "pygments_lexer": "ipython3",
   "version": "3.8.10"
  }
 },
 "nbformat": 4,
 "nbformat_minor": 4
}
