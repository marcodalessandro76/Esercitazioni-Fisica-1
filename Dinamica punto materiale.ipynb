{
 "cells": [
  {
   "cell_type": "code",
   "execution_count": 1,
   "metadata": {},
   "outputs": [],
   "source": [
    "from IPython.display import Image"
   ]
  },
  {
   "cell_type": "markdown",
   "metadata": {},
   "source": [
    "# Esercizi di dinamica del punto materiale"
   ]
  },
  {
   "cell_type": "markdown",
   "metadata": {},
   "source": [
    "Gli esercizi proposti sono tratti da:\n",
    "\n",
    "1. Mazzoldi Saggion Voci : Problemi di Fisica generale (MSV)\n",
    "2. Mazzoldi Nigro Voci : Fisica Vol. 1(MNV)\n",
    "3. Temi d'esame (TE)"
   ]
  },
  {
   "cell_type": "markdown",
   "metadata": {},
   "source": [
    "__Scaletta__\n",
    "\n",
    "Lezione 1 (14 marzo)\n",
    "\n",
    "* Forza peso e vincoli e attriti (moti rettilinei) : piano inclinato e combinazione fili e attrivi\n",
    "  Numeri dal 2.17 a 2.21 (scelgo 2), fare 2.24 e 2.28\n",
    "\n",
    "Lezione 2 (21 marzo)\n",
    "* Vincoli (moti circolari), senza conservazioni energia\n",
    "  Numeri 2.9, 2.10, 2.36\n",
    "  Aggiungere un esecizio di cinematica moto circolare dal cap. 1\n",
    "  \n",
    "\n",
    "Lezioni 3-4 (28 marzo e 4 aprile) da fare dopo conservazione energia\n",
    "\n",
    "Lavoro di tutte le forze (peso, attrito, molla,....)\n",
    "\n",
    "* Oscillatore armonico (preparare analisi numerica python)\n",
    "  Esercizi dal cap. 4 e dal cap. 2 (quellli con l'energia)"
   ]
  },
  {
   "cell_type": "markdown",
   "metadata": {},
   "source": [
    "## Esercizio xxxx"
   ]
  },
  {
   "cell_type": "code",
   "execution_count": null,
   "metadata": {},
   "outputs": [],
   "source": []
  },
  {
   "cell_type": "code",
   "execution_count": null,
   "metadata": {},
   "outputs": [],
   "source": []
  },
  {
   "cell_type": "code",
   "execution_count": null,
   "metadata": {},
   "outputs": [],
   "source": []
  },
  {
   "cell_type": "markdown",
   "metadata": {},
   "source": [
    "## Esercizio xxx"
   ]
  },
  {
   "cell_type": "code",
   "execution_count": null,
   "metadata": {},
   "outputs": [],
   "source": []
  },
  {
   "cell_type": "code",
   "execution_count": null,
   "metadata": {},
   "outputs": [],
   "source": []
  },
  {
   "cell_type": "code",
   "execution_count": null,
   "metadata": {},
   "outputs": [],
   "source": []
  }
 ],
 "metadata": {
  "kernelspec": {
   "display_name": "Python 3",
   "language": "python",
   "name": "python3"
  },
  "language_info": {
   "codemirror_mode": {
    "name": "ipython",
    "version": 3
   },
   "file_extension": ".py",
   "mimetype": "text/x-python",
   "name": "python",
   "nbconvert_exporter": "python",
   "pygments_lexer": "ipython3",
   "version": "3.8.10"
  }
 },
 "nbformat": 4,
 "nbformat_minor": 4
}
